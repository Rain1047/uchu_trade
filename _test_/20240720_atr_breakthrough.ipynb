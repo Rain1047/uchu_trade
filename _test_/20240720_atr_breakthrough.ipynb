{
 "cells": [
  {
   "cell_type": "code",
   "execution_count": 1,
   "metadata": {
    "collapsed": true
   },
   "outputs": [],
   "source": [
    "import yfinance as yf\n",
    "import pandas as pd\n",
    "import talib as ta"
   ]
  },
  {
   "cell_type": "code",
   "execution_count": 5,
   "outputs": [
    {
     "name": "stdout",
     "output_type": "stream",
     "text": [
      "[*********************100%%**********************]  1 of 1 completed\n"
     ]
    },
    {
     "data": {
      "text/plain": "                    Open          High           Low         Close  \\\nDate                                                                 \n2024-07-13  57908.738281  59787.078125  57796.441406  59231.953125   \n2024-07-14  59225.250000  61329.527344  59225.250000  60787.792969   \n2024-07-15  60815.457031  64870.152344  60704.929688  64870.152344   \n2024-07-16  64784.417969  65354.339844  62487.968750  65097.148438   \n2024-07-17  65091.832031  66066.734375  63896.085938  64118.792969   \n\n               Adj Close       Volume        ATR_3  Long_Entry_Price  \nDate                                                                  \n2024-07-13  59231.953125  17080061806  2167.306463      60098.875710  \n2024-07-14  60787.792969  22223416061  2146.296757      61646.311671  \n2024-07-15  64870.152344  38094526099  2819.272057      65997.861166  \n2024-07-16  65097.148438  41617346768  2834.971736      66231.137132  \n2024-07-17  64118.792969  32525071311  2613.530636      65164.205223  ",
      "text/html": "<div>\n<style scoped>\n    .dataframe tbody tr th:only-of-type {\n        vertical-align: middle;\n    }\n\n    .dataframe tbody tr th {\n        vertical-align: top;\n    }\n\n    .dataframe thead th {\n        text-align: right;\n    }\n</style>\n<table border=\"1\" class=\"dataframe\">\n  <thead>\n    <tr style=\"text-align: right;\">\n      <th></th>\n      <th>Open</th>\n      <th>High</th>\n      <th>Low</th>\n      <th>Close</th>\n      <th>Adj Close</th>\n      <th>Volume</th>\n      <th>ATR_3</th>\n      <th>Long_Entry_Price</th>\n    </tr>\n    <tr>\n      <th>Date</th>\n      <th></th>\n      <th></th>\n      <th></th>\n      <th></th>\n      <th></th>\n      <th></th>\n      <th></th>\n      <th></th>\n    </tr>\n  </thead>\n  <tbody>\n    <tr>\n      <th>2024-07-13</th>\n      <td>57908.738281</td>\n      <td>59787.078125</td>\n      <td>57796.441406</td>\n      <td>59231.953125</td>\n      <td>59231.953125</td>\n      <td>17080061806</td>\n      <td>2167.306463</td>\n      <td>60098.875710</td>\n    </tr>\n    <tr>\n      <th>2024-07-14</th>\n      <td>59225.250000</td>\n      <td>61329.527344</td>\n      <td>59225.250000</td>\n      <td>60787.792969</td>\n      <td>60787.792969</td>\n      <td>22223416061</td>\n      <td>2146.296757</td>\n      <td>61646.311671</td>\n    </tr>\n    <tr>\n      <th>2024-07-15</th>\n      <td>60815.457031</td>\n      <td>64870.152344</td>\n      <td>60704.929688</td>\n      <td>64870.152344</td>\n      <td>64870.152344</td>\n      <td>38094526099</td>\n      <td>2819.272057</td>\n      <td>65997.861166</td>\n    </tr>\n    <tr>\n      <th>2024-07-16</th>\n      <td>64784.417969</td>\n      <td>65354.339844</td>\n      <td>62487.968750</td>\n      <td>65097.148438</td>\n      <td>65097.148438</td>\n      <td>41617346768</td>\n      <td>2834.971736</td>\n      <td>66231.137132</td>\n    </tr>\n    <tr>\n      <th>2024-07-17</th>\n      <td>65091.832031</td>\n      <td>66066.734375</td>\n      <td>63896.085938</td>\n      <td>64118.792969</td>\n      <td>64118.792969</td>\n      <td>32525071311</td>\n      <td>2613.530636</td>\n      <td>65164.205223</td>\n    </tr>\n  </tbody>\n</table>\n</div>"
     },
     "execution_count": 5,
     "metadata": {},
     "output_type": "execute_result"
    }
   ],
   "source": [
    "# 下载BTC-USD数据\n",
    "btc_data = yf.download(\"BTC-USD\", start=\"2024-07-01\", end=\"2024-07-18\")\n",
    "\n",
    "# 计算3日ATR\n",
    "btc_data['ATR_3'] = ta.ATR(btc_data['High'], btc_data['Low'], btc_data['Close'], timeperiod=3)\n",
    "\n",
    "# 计算开多价格（收盘价 + 3日ATR的40%）\n",
    "btc_data['Long_Entry_Price'] = btc_data['Close'] + 0.4 * btc_data['ATR_3']\n",
    "\n",
    "# 提取最近几天的数据进行展示\n",
    "recent_data = btc_data.tail()\n",
    "\n",
    "recent_data\n"
   ],
   "metadata": {
    "collapsed": false
   }
  },
  {
   "cell_type": "code",
   "execution_count": null,
   "outputs": [],
   "source": [],
   "metadata": {
    "collapsed": false
   }
  }
 ],
 "metadata": {
  "kernelspec": {
   "display_name": "Python 3",
   "language": "python",
   "name": "python3"
  },
  "language_info": {
   "codemirror_mode": {
    "name": "ipython",
    "version": 2
   },
   "file_extension": ".py",
   "mimetype": "text/x-python",
   "name": "python",
   "nbconvert_exporter": "python",
   "pygments_lexer": "ipython2",
   "version": "2.7.6"
  }
 },
 "nbformat": 4,
 "nbformat_minor": 0
}
