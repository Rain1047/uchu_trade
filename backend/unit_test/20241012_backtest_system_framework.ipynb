{
 "cells": [
  {
   "metadata": {
    "ExecuteTime": {
     "end_time": "2024-10-27T04:40:01.619717Z",
     "start_time": "2024-10-27T04:40:01.611488Z"
    }
   },
   "cell_type": "code",
   "source": [
    "import pandas as pd\n",
    "import numpy as np\n",
    "\n",
    "def generate_sample_data():\n",
    "    data = {\n",
    "        'datetime': pd.date_range(start='2023-01-01', periods=100, freq='D'),\n",
    "        'open': np.random.rand(100) * 100,\n",
    "        'high': np.random.rand(100) * 100,\n",
    "        'low': np.random.rand(100) * 100,\n",
    "        'close': np.random.rand(100) * 100,\n",
    "        'volume': np.random.randint(1, 100, size=100),\n",
    "        'buy_sig': np.random.randint(0, 2, size=100),\n",
    "        'sell_sig': np.random.randint(0, 2, size=100),\n",
    "        'stop_loss': np.random.rand(100) * 100,\n",
    "    }\n",
    "    return pd.DataFrame(data)\n",
    "\n",
    "df = generate_sample_data()\n",
    "df['datetime']"
   ],
   "id": "6d7babc7635cd885",
   "outputs": [
    {
     "data": {
      "text/plain": [
       "0    2023-01-01\n",
       "1    2023-01-02\n",
       "2    2023-01-03\n",
       "3    2023-01-04\n",
       "4    2023-01-05\n",
       "        ...    \n",
       "95   2023-04-06\n",
       "96   2023-04-07\n",
       "97   2023-04-08\n",
       "98   2023-04-09\n",
       "99   2023-04-10\n",
       "Name: datetime, Length: 100, dtype: datetime64[ns]"
      ]
     },
     "execution_count": 4,
     "metadata": {},
     "output_type": "execute_result"
    }
   ],
   "execution_count": 4
  },
  {
   "metadata": {},
   "cell_type": "code",
   "outputs": [],
   "execution_count": null,
   "source": "",
   "id": "45c9891c285b9f6"
  }
 ],
 "metadata": {
  "kernelspec": {
   "display_name": "Python 3",
   "language": "python",
   "name": "python3"
  },
  "language_info": {
   "codemirror_mode": {
    "name": "ipython",
    "version": 2
   },
   "file_extension": ".py",
   "mimetype": "text/x-python",
   "name": "python",
   "nbconvert_exporter": "python",
   "pygments_lexer": "ipython2",
   "version": "2.7.6"
  }
 },
 "nbformat": 4,
 "nbformat_minor": 5
}
