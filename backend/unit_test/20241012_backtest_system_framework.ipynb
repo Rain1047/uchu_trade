{
 "cells": [
  {
   "metadata": {
    "ExecuteTime": {
     "end_time": "2024-10-27T10:51:28.150068Z",
     "start_time": "2024-10-27T10:51:28.117459Z"
    }
   },
   "cell_type": "code",
   "source": [
    "import pandas as pd\n",
    "import numpy as np\n",
    "\n",
    "def generate_sample_data():\n",
    "    data = {\n",
    "        'datetime': pd.date_range(start='2023-01-01', periods=100, freq='D'),\n",
    "        'open': np.random.rand(100) * 100,\n",
    "        'high': np.random.rand(100) * 100,\n",
    "        'low': np.random.rand(100) * 100,\n",
    "        'close': np.random.rand(100) * 100,\n",
    "        'volume': np.random.randint(1, 100, size=100),\n",
    "        'buy_sig': np.random.randint(0, 2, size=100),\n",
    "        'sell_sig': np.random.randint(0, 2, size=100),\n",
    "        'stop_loss': np.random.rand(100) * 100,\n",
    "    }\n",
    "    return pd.DataFrame(data)\n",
    "\n",
    "df = generate_sample_data()\n"
   ],
   "id": "6d7babc7635cd885",
   "outputs": [],
   "execution_count": 6
  },
  {
   "metadata": {
    "ExecuteTime": {
     "end_time": "2024-10-27T10:52:01.308783Z",
     "start_time": "2024-10-27T10:52:01.303878Z"
    }
   },
   "cell_type": "code",
   "source": [
    "df.columns\n",
    "df.dtypes"
   ],
   "id": "45c9891c285b9f6",
   "outputs": [
    {
     "data": {
      "text/plain": [
       "datetime     datetime64[ns]\n",
       "open                float64\n",
       "high                float64\n",
       "low                 float64\n",
       "close               float64\n",
       "volume                int64\n",
       "buy_sig               int64\n",
       "sell_sig              int64\n",
       "stop_loss           float64\n",
       "dtype: object"
      ]
     },
     "execution_count": 9,
     "metadata": {},
     "output_type": "execute_result"
    }
   ],
   "execution_count": 9
  },
  {
   "metadata": {},
   "cell_type": "code",
   "outputs": [],
   "execution_count": null,
   "source": "",
   "id": "3af98b18db38ab89"
  }
 ],
 "metadata": {
  "kernelspec": {
   "display_name": "Python 3",
   "language": "python",
   "name": "python3"
  },
  "language_info": {
   "codemirror_mode": {
    "name": "ipython",
    "version": 2
   },
   "file_extension": ".py",
   "mimetype": "text/x-python",
   "name": "python",
   "nbconvert_exporter": "python",
   "pygments_lexer": "ipython2",
   "version": "2.7.6"
  }
 },
 "nbformat": 4,
 "nbformat_minor": 5
}
