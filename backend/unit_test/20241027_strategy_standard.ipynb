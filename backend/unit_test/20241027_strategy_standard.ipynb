{
 "cells": [
  {
   "cell_type": "code",
   "id": "initial_id",
   "metadata": {
    "collapsed": true,
    "ExecuteTime": {
     "end_time": "2024-10-27T11:40:44.198467Z",
     "start_time": "2024-10-27T11:40:43.800536Z"
    }
   },
   "source": [
    "\n",
    "import numpy as np\n",
    "from backend.data_center.kline_data.kline_data_collector import *\n",
    "\n",
    "tv = KlineDataCollector()\n",
    "file_abspath = tv.get_abspath(symbol='BTC', interval=Interval.in_daily)\n",
    "df = pd.read_csv(f\"{file_abspath}\")\n"
   ],
   "outputs": [
    {
     "name": "stderr",
     "output_type": "stream",
     "text": [
      "error while signin\n",
      "you are using nologin method, data you access may be limited\n"
     ]
    }
   ],
   "execution_count": 27
  },
  {
   "metadata": {
    "ExecuteTime": {
     "end_time": "2024-10-27T11:40:44.947409Z",
     "start_time": "2024-10-27T11:40:44.920909Z"
    }
   },
   "cell_type": "code",
   "source": [
    "def perfect_order_strategy(df: DataFrame) -> DataFrame:\n",
    "    if 'high' not in df.columns or 'low' not in df.columns or 'close' not in df.columns:\n",
    "        raise ValueError(\"DataFrame must contain 'high', 'low', and 'close' columns.\")\n",
    "    df['is_perfect_order'] = (df['sma10'] > df['sma20']) & (df['sma20'] > df['sma50']) & (df['sma50'] > df['sma100']) & (df['sma100'] > df['sma200'])\n",
    "    df['is_prev_perfect_order'] = df['is_perfect_order'].shift(1)\n",
    "    # 当前一个不是完美订单，而今天是完美订单，则买入\n",
    "    df['buy_sig'] = np.where((df['is_perfect_order'] == True) & (df['is_prev_perfect_order'] == False), 0, 1)\n",
    "    df['sell_sig'] = np.where((df['is_perfect_order'] == False) & (df['is_prev_perfect_order'] == True), 0, 1)\n",
    "\n",
    "    # \n",
    "    return df\n",
    "\n",
    "df = perfect_order_strategy(df)\n",
    "df.dropna(inplace=True)\n",
    "df.dtypes"
   ],
   "id": "95dab448f6421aaa",
   "outputs": [
    {
     "data": {
      "text/plain": [
       "datetime                  object\n",
       "symbol                    object\n",
       "open                     float64\n",
       "high                     float64\n",
       "low                      float64\n",
       "close                    float64\n",
       "volume                   float64\n",
       "adx                      float64\n",
       "sma10                    float64\n",
       "sma20                    float64\n",
       "sma50                    float64\n",
       "sma100                   float64\n",
       "sma200                   float64\n",
       "is_perfect_order            bool\n",
       "is_prev_perfect_order     object\n",
       "buy_sig                    int64\n",
       "sell_sig                   int64\n",
       "dtype: object"
      ]
     },
     "execution_count": 28,
     "metadata": {},
     "output_type": "execute_result"
    }
   ],
   "execution_count": 28
  },
  {
   "metadata": {
    "ExecuteTime": {
     "end_time": "2024-10-27T11:40:47.059262Z",
     "start_time": "2024-10-27T11:40:47.045836Z"
    }
   },
   "cell_type": "code",
   "source": [
    "new_df = df[['datetime', 'open', 'high', 'low', 'close', 'volume', 'buy_sig', 'sell_sig']].copy()\n",
    "new_df['stop_loss'] = 0.0\n",
    "# Rename 'datetime' column to ensure it's in the desired format\n",
    "new_df['datetime'] = pd.to_datetime(new_df['datetime'])\n",
    "\n",
    "# Set the data types for the new DataFrame\n",
    "new_df = new_df.astype({\n",
    "    'datetime': 'datetime64[ns]',\n",
    "    'open': 'float64',\n",
    "    'high': 'float64',\n",
    "    'low': 'float64',\n",
    "    'close': 'float64',\n",
    "    'volume': 'int64',   # Change to int64 as specified\n",
    "    'buy_sig': 'int64',\n",
    "    'sell_sig': 'int64',\n",
    "    'stop_loss': 'float64'  # Assuming you want this column as well\n",
    "})\n",
    "\n",
    "new_df.dtypes"
   ],
   "id": "93f86d910a204f4f",
   "outputs": [
    {
     "data": {
      "text/plain": [
       "datetime     datetime64[ns]\n",
       "open                float64\n",
       "high                float64\n",
       "low                 float64\n",
       "close               float64\n",
       "volume                int64\n",
       "buy_sig               int64\n",
       "sell_sig              int64\n",
       "stop_loss           float64\n",
       "dtype: object"
      ]
     },
     "execution_count": 29,
     "metadata": {},
     "output_type": "execute_result"
    }
   ],
   "execution_count": 29
  },
  {
   "metadata": {},
   "cell_type": "code",
   "outputs": [],
   "execution_count": null,
   "source": "",
   "id": "1ab3c281a13ce2b9"
  }
 ],
 "metadata": {
  "kernelspec": {
   "display_name": "Python 3",
   "language": "python",
   "name": "python3"
  },
  "language_info": {
   "codemirror_mode": {
    "name": "ipython",
    "version": 2
   },
   "file_extension": ".py",
   "mimetype": "text/x-python",
   "name": "python",
   "nbconvert_exporter": "python",
   "pygments_lexer": "ipython2",
   "version": "2.7.6"
  }
 },
 "nbformat": 4,
 "nbformat_minor": 5
}
