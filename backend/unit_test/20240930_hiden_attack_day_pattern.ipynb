{
 "cells": [
  {
   "cell_type": "code",
   "id": "initial_id",
   "metadata": {
    "collapsed": true,
    "ExecuteTime": {
     "end_time": "2024-10-05T15:08:47.824709Z",
     "start_time": "2024-10-05T15:08:46.191057Z"
    }
   },
   "source": [
    "import pandas as pd\n",
    "from backend.data_center.kline_data.kline_data_collector import *\n",
    "tv = KlineDataCollector()\n",
    "file_abspath = tv.get_abspath(symbol='BTC', interval=Interval.in_daily)\n",
    "df = pd.read_csv(f\"{file_abspath}\")\n",
    "f\"数据量为: {len(df)}\""
   ],
   "outputs": [
    {
     "name": "stderr",
     "output_type": "stream",
     "text": [
      "error while signin\n",
      "you are using nologin method, data you access may be limited\n"
     ]
    },
    {
     "data": {
      "text/plain": [
       "'数据量为: 2582'"
      ]
     },
     "execution_count": 130,
     "metadata": {},
     "output_type": "execute_result"
    }
   ],
   "execution_count": 130
  },
  {
   "metadata": {
    "ExecuteTime": {
     "end_time": "2024-10-05T15:09:09.878410Z",
     "start_time": "2024-10-05T15:09:09.863623Z"
    }
   },
   "cell_type": "code",
   "source": [
    "df['prev_low'] = df['low'].shift(1)\n",
    "df['prev_high'] = df['high'].shift(1)\n",
    "df['prev_close'] = df['close'].shift(1)\n",
    "df['next_low'] = df['low'].shift(-1)\n",
    "df['next_high'] = df['high'].shift(-1)\n",
    "df['next_close'] = df['close'].shift(-1)\n",
    "df.dropna(inplace=True)\n",
    "\n",
    "# calculate the hidden attack buy pattern\n",
    "df['hidden_attack_buy_pattern'] = (df['close'] > df['open']) & ((df['close'] - df['low']) / (df['high'] - df['low']) <= 0.5)\n",
    "df['prev_is_abp'] = df['hidden_attack_buy_pattern'].shift(1)\n",
    "df.dropna(inplace=True)"
   ],
   "id": "5cfd8c2b4d31768f",
   "outputs": [],
   "execution_count": 135
  },
  {
   "metadata": {
    "ExecuteTime": {
     "end_time": "2024-10-05T15:09:10.628784Z",
     "start_time": "2024-10-05T15:09:10.622119Z"
    }
   },
   "cell_type": "code",
   "source": "entry_count = len(df[(df['prev_is_abp'] == True) & (df['high'] > df['prev_high'])])",
   "id": "e0268a4d0c4a65cc",
   "outputs": [],
   "execution_count": 136
  },
  {
   "metadata": {
    "ExecuteTime": {
     "end_time": "2024-10-05T15:09:11.095172Z",
     "start_time": "2024-10-05T15:09:11.090974Z"
    }
   },
   "cell_type": "code",
   "source": "profit_count = len(df[(df['prev_is_abp'] == True) & (df['close'] > df['prev_high'])])",
   "id": "318e223dbb85e08a",
   "outputs": [],
   "execution_count": 137
  },
  {
   "metadata": {
    "ExecuteTime": {
     "end_time": "2024-10-05T15:09:12.007967Z",
     "start_time": "2024-10-05T15:09:12.003542Z"
    }
   },
   "cell_type": "code",
   "source": "(entry_count, profit_count)",
   "id": "d1bd8fd051d5e8e7",
   "outputs": [
    {
     "data": {
      "text/plain": [
       "(60, 39)"
      ]
     },
     "execution_count": 138,
     "metadata": {},
     "output_type": "execute_result"
    }
   ],
   "execution_count": 138
  },
  {
   "metadata": {
    "ExecuteTime": {
     "end_time": "2024-10-05T15:09:14.500922Z",
     "start_time": "2024-10-05T15:09:14.495738Z"
    }
   },
   "cell_type": "code",
   "source": "profit_count/entry_count",
   "id": "aa37796150a4d7bc",
   "outputs": [
    {
     "data": {
      "text/plain": [
       "0.65"
      ]
     },
     "execution_count": 139,
     "metadata": {},
     "output_type": "execute_result"
    }
   ],
   "execution_count": 139
  },
  {
   "metadata": {
    "ExecuteTime": {
     "end_time": "2024-10-05T14:38:54.409299Z",
     "start_time": "2024-10-05T14:38:54.403264Z"
    }
   },
   "cell_type": "code",
   "source": "len(df[(df['prev_is_abp'] == True) & (df['close'] > df['prev_high']) & (df['next_close'] > df['close'])])",
   "id": "cf8f5fba978901bf",
   "outputs": [
    {
     "data": {
      "text/plain": [
       "10"
      ]
     },
     "execution_count": 126,
     "metadata": {},
     "output_type": "execute_result"
    }
   ],
   "execution_count": 126
  },
  {
   "metadata": {
    "ExecuteTime": {
     "end_time": "2024-10-05T14:39:05.651859Z",
     "start_time": "2024-10-05T14:39:05.635588Z"
    }
   },
   "cell_type": "code",
   "source": "df[(df['prev_is_abp'] == True) & (df['close'] > df['prev_high']) & (df['next_close'] > df['close'])]",
   "id": "34daebd761f5ba15",
   "outputs": [
    {
     "data": {
      "text/plain": [
       "                 datetime           symbol      open      high       low  \\\n",
       "50    2022-05-31 04:00:00  Binance:BTCUSDT  30643.10  32222.00  30500.00   \n",
       "1149  2022-11-30 08:00:00  Binance:BTCUSDT  16442.91  17162.20  16428.30   \n",
       "1613  2023-02-15 16:00:00  Binance:BTCUSDT  22109.89  22500.00  22089.11   \n",
       "2033  2023-04-26 16:00:00  Binance:BTCUSDT  28376.19  29138.83  28371.99   \n",
       "2078  2023-05-04 04:00:00  Binance:BTCUSDT  28322.97  29266.66  28285.19   \n",
       "2873  2023-09-13 16:00:00  Binance:BTCUSDT  25879.91  26247.79  25866.17   \n",
       "3110  2023-10-23 04:00:00  Binance:BTCUSDT  29842.75  30051.79  29714.28   \n",
       "3304  2023-11-24 12:00:00  Binance:BTCUSDT  37315.64  37567.99  37300.39   \n",
       "3765  2024-02-09 08:00:00  Binance:BTCUSDT  45288.66  46384.27  45242.12   \n",
       "4075  2024-04-01 00:00:00  Binance:BTCUSDT  70381.13  71227.22  70321.86   \n",
       "\n",
       "         close       volume  prev_low  prev_high  prev_close  next_low  \\\n",
       "50    31734.22  35322.48962  30566.54   30878.10    30643.11  31440.52   \n",
       "1149  16845.25  73546.88903  16423.19   16526.91    16442.53  16794.16   \n",
       "1613  22445.13  49264.71292  22072.55   22199.29    22109.89  22443.24   \n",
       "2033  28952.32  21338.25434  28301.05   28599.00    28376.18  28952.31   \n",
       "2078  29026.16  14351.34164  28211.08   28800.00    28322.98  28950.98   \n",
       "2873  26198.41   5303.36042  25850.91   26109.94    25879.91  26016.22   \n",
       "3110  29992.46   3796.45600  29805.13   29946.77    29842.75  29883.60   \n",
       "3304  37522.99   2717.47733  37251.51   37494.57    37315.65  37423.90   \n",
       "3765  46060.74   9482.53987  45227.00   45614.30    45288.65  45855.00   \n",
       "4075  71023.50   3712.47384  70289.72   70759.10    70381.13  70639.93   \n",
       "\n",
       "      next_high  next_close  hidden_attack_buy_pattern prev_is_abp  \n",
       "50     31861.55    31772.82                      False        True  \n",
       "1149   16920.16    16884.18                      False        True  \n",
       "1613   22916.98    22809.46                      False        True  \n",
       "2033   30036.00    29820.03                      False        True  \n",
       "2078   29195.94    29096.86                      False        True  \n",
       "2873   26387.76    26241.31                      False        True  \n",
       "3110   30799.00    30736.69                      False        True  \n",
       "3304   38035.46    37741.99                      False        True  \n",
       "3765   46425.03    46202.00                      False        True  \n",
       "4075   71366.00    71280.01                      False        True  "
      ],
      "text/html": [
       "<div>\n",
       "<style scoped>\n",
       "    .dataframe tbody tr th:only-of-type {\n",
       "        vertical-align: middle;\n",
       "    }\n",
       "\n",
       "    .dataframe tbody tr th {\n",
       "        vertical-align: top;\n",
       "    }\n",
       "\n",
       "    .dataframe thead th {\n",
       "        text-align: right;\n",
       "    }\n",
       "</style>\n",
       "<table border=\"1\" class=\"dataframe\">\n",
       "  <thead>\n",
       "    <tr style=\"text-align: right;\">\n",
       "      <th></th>\n",
       "      <th>datetime</th>\n",
       "      <th>symbol</th>\n",
       "      <th>open</th>\n",
       "      <th>high</th>\n",
       "      <th>low</th>\n",
       "      <th>close</th>\n",
       "      <th>volume</th>\n",
       "      <th>prev_low</th>\n",
       "      <th>prev_high</th>\n",
       "      <th>prev_close</th>\n",
       "      <th>next_low</th>\n",
       "      <th>next_high</th>\n",
       "      <th>next_close</th>\n",
       "      <th>hidden_attack_buy_pattern</th>\n",
       "      <th>prev_is_abp</th>\n",
       "    </tr>\n",
       "  </thead>\n",
       "  <tbody>\n",
       "    <tr>\n",
       "      <th>50</th>\n",
       "      <td>2022-05-31 04:00:00</td>\n",
       "      <td>Binance:BTCUSDT</td>\n",
       "      <td>30643.10</td>\n",
       "      <td>32222.00</td>\n",
       "      <td>30500.00</td>\n",
       "      <td>31734.22</td>\n",
       "      <td>35322.48962</td>\n",
       "      <td>30566.54</td>\n",
       "      <td>30878.10</td>\n",
       "      <td>30643.11</td>\n",
       "      <td>31440.52</td>\n",
       "      <td>31861.55</td>\n",
       "      <td>31772.82</td>\n",
       "      <td>False</td>\n",
       "      <td>True</td>\n",
       "    </tr>\n",
       "    <tr>\n",
       "      <th>1149</th>\n",
       "      <td>2022-11-30 08:00:00</td>\n",
       "      <td>Binance:BTCUSDT</td>\n",
       "      <td>16442.91</td>\n",
       "      <td>17162.20</td>\n",
       "      <td>16428.30</td>\n",
       "      <td>16845.25</td>\n",
       "      <td>73546.88903</td>\n",
       "      <td>16423.19</td>\n",
       "      <td>16526.91</td>\n",
       "      <td>16442.53</td>\n",
       "      <td>16794.16</td>\n",
       "      <td>16920.16</td>\n",
       "      <td>16884.18</td>\n",
       "      <td>False</td>\n",
       "      <td>True</td>\n",
       "    </tr>\n",
       "    <tr>\n",
       "      <th>1613</th>\n",
       "      <td>2023-02-15 16:00:00</td>\n",
       "      <td>Binance:BTCUSDT</td>\n",
       "      <td>22109.89</td>\n",
       "      <td>22500.00</td>\n",
       "      <td>22089.11</td>\n",
       "      <td>22445.13</td>\n",
       "      <td>49264.71292</td>\n",
       "      <td>22072.55</td>\n",
       "      <td>22199.29</td>\n",
       "      <td>22109.89</td>\n",
       "      <td>22443.24</td>\n",
       "      <td>22916.98</td>\n",
       "      <td>22809.46</td>\n",
       "      <td>False</td>\n",
       "      <td>True</td>\n",
       "    </tr>\n",
       "    <tr>\n",
       "      <th>2033</th>\n",
       "      <td>2023-04-26 16:00:00</td>\n",
       "      <td>Binance:BTCUSDT</td>\n",
       "      <td>28376.19</td>\n",
       "      <td>29138.83</td>\n",
       "      <td>28371.99</td>\n",
       "      <td>28952.32</td>\n",
       "      <td>21338.25434</td>\n",
       "      <td>28301.05</td>\n",
       "      <td>28599.00</td>\n",
       "      <td>28376.18</td>\n",
       "      <td>28952.31</td>\n",
       "      <td>30036.00</td>\n",
       "      <td>29820.03</td>\n",
       "      <td>False</td>\n",
       "      <td>True</td>\n",
       "    </tr>\n",
       "    <tr>\n",
       "      <th>2078</th>\n",
       "      <td>2023-05-04 04:00:00</td>\n",
       "      <td>Binance:BTCUSDT</td>\n",
       "      <td>28322.97</td>\n",
       "      <td>29266.66</td>\n",
       "      <td>28285.19</td>\n",
       "      <td>29026.16</td>\n",
       "      <td>14351.34164</td>\n",
       "      <td>28211.08</td>\n",
       "      <td>28800.00</td>\n",
       "      <td>28322.98</td>\n",
       "      <td>28950.98</td>\n",
       "      <td>29195.94</td>\n",
       "      <td>29096.86</td>\n",
       "      <td>False</td>\n",
       "      <td>True</td>\n",
       "    </tr>\n",
       "    <tr>\n",
       "      <th>2873</th>\n",
       "      <td>2023-09-13 16:00:00</td>\n",
       "      <td>Binance:BTCUSDT</td>\n",
       "      <td>25879.91</td>\n",
       "      <td>26247.79</td>\n",
       "      <td>25866.17</td>\n",
       "      <td>26198.41</td>\n",
       "      <td>5303.36042</td>\n",
       "      <td>25850.91</td>\n",
       "      <td>26109.94</td>\n",
       "      <td>25879.91</td>\n",
       "      <td>26016.22</td>\n",
       "      <td>26387.76</td>\n",
       "      <td>26241.31</td>\n",
       "      <td>False</td>\n",
       "      <td>True</td>\n",
       "    </tr>\n",
       "    <tr>\n",
       "      <th>3110</th>\n",
       "      <td>2023-10-23 04:00:00</td>\n",
       "      <td>Binance:BTCUSDT</td>\n",
       "      <td>29842.75</td>\n",
       "      <td>30051.79</td>\n",
       "      <td>29714.28</td>\n",
       "      <td>29992.46</td>\n",
       "      <td>3796.45600</td>\n",
       "      <td>29805.13</td>\n",
       "      <td>29946.77</td>\n",
       "      <td>29842.75</td>\n",
       "      <td>29883.60</td>\n",
       "      <td>30799.00</td>\n",
       "      <td>30736.69</td>\n",
       "      <td>False</td>\n",
       "      <td>True</td>\n",
       "    </tr>\n",
       "    <tr>\n",
       "      <th>3304</th>\n",
       "      <td>2023-11-24 12:00:00</td>\n",
       "      <td>Binance:BTCUSDT</td>\n",
       "      <td>37315.64</td>\n",
       "      <td>37567.99</td>\n",
       "      <td>37300.39</td>\n",
       "      <td>37522.99</td>\n",
       "      <td>2717.47733</td>\n",
       "      <td>37251.51</td>\n",
       "      <td>37494.57</td>\n",
       "      <td>37315.65</td>\n",
       "      <td>37423.90</td>\n",
       "      <td>38035.46</td>\n",
       "      <td>37741.99</td>\n",
       "      <td>False</td>\n",
       "      <td>True</td>\n",
       "    </tr>\n",
       "    <tr>\n",
       "      <th>3765</th>\n",
       "      <td>2024-02-09 08:00:00</td>\n",
       "      <td>Binance:BTCUSDT</td>\n",
       "      <td>45288.66</td>\n",
       "      <td>46384.27</td>\n",
       "      <td>45242.12</td>\n",
       "      <td>46060.74</td>\n",
       "      <td>9482.53987</td>\n",
       "      <td>45227.00</td>\n",
       "      <td>45614.30</td>\n",
       "      <td>45288.65</td>\n",
       "      <td>45855.00</td>\n",
       "      <td>46425.03</td>\n",
       "      <td>46202.00</td>\n",
       "      <td>False</td>\n",
       "      <td>True</td>\n",
       "    </tr>\n",
       "    <tr>\n",
       "      <th>4075</th>\n",
       "      <td>2024-04-01 00:00:00</td>\n",
       "      <td>Binance:BTCUSDT</td>\n",
       "      <td>70381.13</td>\n",
       "      <td>71227.22</td>\n",
       "      <td>70321.86</td>\n",
       "      <td>71023.50</td>\n",
       "      <td>3712.47384</td>\n",
       "      <td>70289.72</td>\n",
       "      <td>70759.10</td>\n",
       "      <td>70381.13</td>\n",
       "      <td>70639.93</td>\n",
       "      <td>71366.00</td>\n",
       "      <td>71280.01</td>\n",
       "      <td>False</td>\n",
       "      <td>True</td>\n",
       "    </tr>\n",
       "  </tbody>\n",
       "</table>\n",
       "</div>"
      ]
     },
     "execution_count": 127,
     "metadata": {},
     "output_type": "execute_result"
    }
   ],
   "execution_count": 127
  },
  {
   "metadata": {},
   "cell_type": "code",
   "outputs": [],
   "execution_count": null,
   "source": "",
   "id": "ff2cb9d6894b402c"
  }
 ],
 "metadata": {
  "kernelspec": {
   "display_name": "Python 3",
   "language": "python",
   "name": "python3"
  },
  "language_info": {
   "codemirror_mode": {
    "name": "ipython",
    "version": 2
   },
   "file_extension": ".py",
   "mimetype": "text/x-python",
   "name": "python",
   "nbconvert_exporter": "python",
   "pygments_lexer": "ipython2",
   "version": "2.7.6"
  }
 },
 "nbformat": 4,
 "nbformat_minor": 5
}
